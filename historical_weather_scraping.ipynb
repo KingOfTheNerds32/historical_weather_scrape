{
 "cells": [
  {
   "cell_type": "code",
   "execution_count": 1,
   "metadata": {
    "collapsed": false
   },
   "outputs": [],
   "source": [
    "import pandas as pd\n",
    "from bs4 import BeautifulSoup\n",
    "import re\n",
    "from selenium import webdriver"
   ]
  },
  {
   "cell_type": "code",
   "execution_count": 2,
   "metadata": {
    "collapsed": true
   },
   "outputs": [],
   "source": [
    "### DEFINE PARAMETERS\n",
    "start_yr = 2010\n",
    "end_yr = 2016\n",
    "city = 'santa-monica'\n",
    "\n",
    "### API structure\n",
    "url_root = 'https://www.timeanddate.com/weather/usa/' + city + '/historic?month='\n",
    "yr_root = '&year='"
   ]
  },
  {
   "cell_type": "code",
   "execution_count": 3,
   "metadata": {
    "collapsed": true
   },
   "outputs": [],
   "source": [
    "#### FUNCTIONS\n",
    "\n",
    "# NAME: process_page\n",
    "# @param driver: webdriver object\n",
    "# @param u: url to process as string\n",
    "# @y: year as numeric\n",
    "def process_page(driver, u, y):\n",
    "    \n",
    "    # Get page and identify all daily links for the month\n",
    "    driver.get(u)\n",
    "    page = driver.page_source\n",
    "    soup = BeautifulSoup(page, 'html.parser')\n",
    "    links = soup.find('div', {'class': 'weatherLinks'})\n",
    "    \n",
    "    # Create empty object to hold results\n",
    "    results = list()\n",
    "    \n",
    "    # For each daily page, parse table to get hourly temp & humidity\n",
    "    for link in links:\n",
    "        l = link.get_text()\n",
    "        driver.find_element_by_link_text(l).click()\n",
    "        soup = BeautifulSoup(page, 'html.parser')\n",
    "        table = soup.find('table', {'id': 'wt-his'})\n",
    "        table = table.find('tbody')\n",
    "        rows = table.findAll('tr')\n",
    "\n",
    "        for row in rows:\n",
    "            headers = row.findAll('th')\n",
    "            timestamp = re.search('.*(am|pm)', headers[0].get_text()).group(0)\n",
    "            cells = row.findAll('td')\n",
    "            temp = re.search('\\d{2,3}', cells[1].get_text()).group(0)\n",
    "            humidity = cells[5].get_text()\n",
    "            results.append((y, l, timestamp, temp, humidity))\n",
    "            \n",
    "    return(results)"
   ]
  },
  {
   "cell_type": "code",
   "execution_count": 5,
   "metadata": {
    "collapsed": false
   },
   "outputs": [
    {
     "name": "stdout",
     "output_type": "stream",
     "text": [
      "https://www.timeanddate.com/weather/usa/santa-monica/historic?month=1&year=2016\n",
      "https://www.timeanddate.com/weather/usa/santa-monica/historic?month=2&year=2016\n",
      "https://www.timeanddate.com/weather/usa/santa-monica/historic?month=3&year=2016\n",
      "https://www.timeanddate.com/weather/usa/santa-monica/historic?month=4&year=2016\n",
      "https://www.timeanddate.com/weather/usa/santa-monica/historic?month=5&year=2016\n",
      "https://www.timeanddate.com/weather/usa/santa-monica/historic?month=6&year=2016\n",
      "https://www.timeanddate.com/weather/usa/santa-monica/historic?month=7&year=2016\n",
      "https://www.timeanddate.com/weather/usa/santa-monica/historic?month=8&year=2016\n",
      "https://www.timeanddate.com/weather/usa/santa-monica/historic?month=9&year=2016\n",
      "https://www.timeanddate.com/weather/usa/santa-monica/historic?month=10&year=2016\n",
      "https://www.timeanddate.com/weather/usa/santa-monica/historic?month=11&year=2016\n",
      "https://www.timeanddate.com/weather/usa/santa-monica/historic?month=12&year=2016\n"
     ]
    }
   ],
   "source": [
    "# Build year & month objects for iteration\n",
    "yrs = range(start_yr, end_yr)\n",
    "mnths = range(1, 13)\n",
    "\n",
    "# Process each year/month\n",
    "# Restart webdriver between months in order to minimize crashes\n",
    "for y in yrs:\n",
    "    for m in mnths:\n",
    "        \n",
    "        # Launch webdriver\n",
    "        driver = webdriver.Firefox()\n",
    "        url = str(url_root + str(m) + yr_root + str(y))\n",
    "        print url\n",
    "        results = list()\n",
    "        results = process_page(driver, url, y)\n",
    "        driver.quit()\n",
    "        df = pd.DataFrame(results, columns = ('year', 'date', 'hour', 'temp', 'humidity'))\n",
    "        df.to_csv('Data/' + str(y) + '_' + str(m) + '.csv')"
   ]
  },
  {
   "cell_type": "code",
   "execution_count": null,
   "metadata": {
    "collapsed": true
   },
   "outputs": [],
   "source": []
  }
 ],
 "metadata": {
  "anaconda-cloud": {},
  "kernelspec": {
   "display_name": "Python [conda root]",
   "language": "python",
   "name": "conda-root-py"
  },
  "language_info": {
   "codemirror_mode": {
    "name": "ipython",
    "version": 2
   },
   "file_extension": ".py",
   "mimetype": "text/x-python",
   "name": "python",
   "nbconvert_exporter": "python",
   "pygments_lexer": "ipython2",
   "version": "2.7.13"
  }
 },
 "nbformat": 4,
 "nbformat_minor": 2
}
